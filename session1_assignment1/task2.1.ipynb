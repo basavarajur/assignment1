{
 "cells": [
  {
   "cell_type": "markdown",
   "metadata": {},
   "source": [
    "1.\n",
    "Write a program which accepts a sequence of comma-separated numbers from console and\n",
    "generate a list."
   ]
  },
  {
   "cell_type": "code",
   "execution_count": 16,
   "metadata": {},
   "outputs": [
    {
     "name": "stdout",
     "output_type": "stream",
     "text": [
      "How many elements would you like to enter? :3\n",
      "Enter element :34\n",
      "Enter element :basava\n",
      "Enter element :eru\n",
      "['34', 'basava', 'eru']\n"
     ]
    }
   ],
   "source": [
    "l=[]\n",
    "elements = int(input('How many elements would you like to enter? :'))\n",
    "counter = 1\n",
    "while counter <= elements:\n",
    "    element = input('Enter element :')\n",
    "    l.append(element)\n",
    "    counter = counter + 1\n",
    "print(l)"
   ]
  },
  {
   "cell_type": "code",
   "execution_count": null,
   "metadata": {},
   "outputs": [],
   "source": []
  }
 ],
 "metadata": {
  "kernelspec": {
   "display_name": "Python 3",
   "language": "python",
   "name": "python3"
  },
  "language_info": {
   "codemirror_mode": {
    "name": "ipython",
    "version": 3
   },
   "file_extension": ".py",
   "mimetype": "text/x-python",
   "name": "python",
   "nbconvert_exporter": "python",
   "pygments_lexer": "ipython3",
   "version": "3.6.5"
  }
 },
 "nbformat": 4,
 "nbformat_minor": 2
}
